{
 "cells": [
  {
   "cell_type": "markdown",
   "metadata": {},
   "source": [
    "# 53\n",
    "Given an integer array nums, find the contiguous subarray (containing at least one number) which has the largest sum and return its sum.\n",
    "\n",
    "Example:\n",
    "\n",
    "Input: [-2,1,-3,4,-1,2,1,-5,4],\n",
    "Output: 6\n",
    "Explanation: [4,-1,2,1] has the largest sum = 6.\n",
    "Follow up:\n",
    "\n",
    "If you have figured out the O(n) solution, try coding another solution using the divide and conquer approach, which is more subtle."
   ]
  },
  {
   "cell_type": "code",
   "execution_count": 1,
   "metadata": {},
   "outputs": [],
   "source": [
    "nums = [-2,1,-3,4,-1,2,1,-5,4]"
   ]
  },
  {
   "cell_type": "code",
   "execution_count": 6,
   "metadata": {},
   "outputs": [],
   "source": [
    "def maxSubArray(nums):\n",
    "    max_so_far = max_end_here = nums[0]\n",
    "    for x in nums[1:]:\n",
    "        max_end_here = max(x, max_end_here+x)\n",
    "        max_so_far = max(max_end_here, max_so_far)\n",
    "    return max_so_far"
   ]
  },
  {
   "cell_type": "code",
   "execution_count": 7,
   "metadata": {},
   "outputs": [
    {
     "data": {
      "text/plain": [
       "6"
      ]
     },
     "execution_count": 7,
     "metadata": {},
     "output_type": "execute_result"
    }
   ],
   "source": [
    "maxSubArray(nums)"
   ]
  },
  {
   "cell_type": "code",
   "execution_count": null,
   "metadata": {},
   "outputs": [],
   "source": []
  }
 ],
 "metadata": {
  "kernelspec": {
   "display_name": "Python 3",
   "language": "python",
   "name": "python3"
  },
  "language_info": {
   "codemirror_mode": {
    "name": "ipython",
    "version": 3
   },
   "file_extension": ".py",
   "mimetype": "text/x-python",
   "name": "python",
   "nbconvert_exporter": "python",
   "pygments_lexer": "ipython3",
   "version": "3.7.1"
  }
 },
 "nbformat": 4,
 "nbformat_minor": 2
}
